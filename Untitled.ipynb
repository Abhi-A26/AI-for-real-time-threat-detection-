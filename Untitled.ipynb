{
 "cells": [
  {
   "cell_type": "code",
   "execution_count": null,
   "id": "80ab3d3c-596c-4865-a646-cb2d488d736d",
   "metadata": {},
   "outputs": [],
   "source": []
  },
  {
   "cell_type": "code",
   "execution_count": 3,
   "id": "3fb4c504-ed92-4d6b-8c30-2dbad3b8cb6f",
   "metadata": {},
   "outputs": [
    {
     "name": "stdout",
     "output_type": "stream",
     "text": [
      "      Timestamp      Source IP   Destination IP  Protocol  Length\n",
      "0  1.696895e+09  192.167.8.166  192.167.255.255      17.0      92\n",
      "1  1.696895e+09  192.167.8.166  192.167.255.255      17.0      92\n",
      "2  1.696895e+09            NaN              NaN       NaN      60\n",
      "3  1.696895e+09            NaN              NaN       NaN      60\n",
      "4  1.696895e+09            NaN              NaN       NaN      60\n",
      "          Timestamp       Protocol         Length\n",
      "count  3.941360e+05  393502.000000  394136.000000\n",
      "mean   1.696896e+09       6.028800     985.577027\n",
      "std    2.636033e+02       0.928903     837.371336\n",
      "min    1.696895e+09       1.000000      42.000000\n",
      "25%    1.696895e+09       6.000000      60.000000\n",
      "50%    1.696896e+09       6.000000    1462.000000\n",
      "75%    1.696896e+09       6.000000    1514.000000\n",
      "max    1.696896e+09      17.000000   49745.000000\n"
     ]
    }
   ],
   "source": [
    "# Step 1: Import necessary libraries\n",
    "import pandas as pd\n",
    "from sklearn.preprocessing import StandardScaler\n",
    "\n",
    "# Step 2: Load the data (assuming CSV format)\n",
    "data = pd.read_csv(\"output1.csv\")\n",
    "\n",
    "# Step 3: Basic data exploration\n",
    "print(data.head())\n",
    "print(data.describe())\n",
    "\n",
    "# Extract features and labels (assuming last column is the label)\n",
    "X = data.iloc[:, :-1]  # Features\n",
    "y = data.iloc[:, -1]   # Labels (e.g., 0 for normal, 1 for malicious)"
   ]
  },
  {
   "cell_type": "code",
   "execution_count": 4,
   "id": "4b63e9c9-a603-4d11-a7ed-481c5eb420b3",
   "metadata": {},
   "outputs": [
    {
     "name": "stdout",
     "output_type": "stream",
     "text": [
      "Timestamp           0\n",
      "Source IP         634\n",
      "Destination IP    634\n",
      "Protocol          634\n",
      "Length              0\n",
      "dtype: int64\n"
     ]
    }
   ],
   "source": [
    "# Check for missing values\n",
    "print(data.isnull().sum())\n"
   ]
  },
  {
   "cell_type": "code",
   "execution_count": 6,
   "id": "e5815359-c019-4c80-9207-ea45f4cc70c6",
   "metadata": {},
   "outputs": [
    {
     "name": "stdout",
     "output_type": "stream",
     "text": [
      "Timestamp         float64\n",
      "Source IP          object\n",
      "Destination IP     object\n",
      "Protocol          float64\n",
      "dtype: object\n"
     ]
    }
   ],
   "source": [
    "# Check the data types of all columns\n",
    "print(X.dtypes)\n",
    "# Convert categorical columns to numeric using one-hot encoding\n",
    "X = pd.get_dummies(X, drop_first=True)\n",
    "# Fill missing values with the mean for numeric columns\n",
    "X = X.fillna(X.mean())\n",
    "from sklearn.preprocessing import StandardScaler\n",
    "\n",
    "# Standardize the feature values\n",
    "scaler = StandardScaler()\n",
    "X_scaled = scaler.fit_transform(X)\n",
    "# Example: Filling missing values with the mean (if there are any)\n",
    "\n",
    "X = X.fillna(X.mean())\n"
   ]
  },
  {
   "cell_type": "code",
   "execution_count": 7,
   "id": "6bcc3a0b-282c-4830-98a0-1fc210f12dd3",
   "metadata": {},
   "outputs": [],
   "source": [
    "from sklearn.preprocessing import StandardScaler\n",
    "\n",
    "# Standardize the feature values\n",
    "scaler = StandardScaler()\n",
    "X_scaled = scaler.fit_transform(X)\n"
   ]
  },
  {
   "cell_type": "code",
   "execution_count": 9,
   "id": "3519fd26-fe70-4c74-8b0e-69e41ae23b46",
   "metadata": {},
   "outputs": [],
   "source": [
    "from sklearn.linear_model import LogisticRegression\n",
    "\n",
    "# Initialize the Logistic Regression model\n",
    "model = LogisticRegression()\n"
   ]
  },
  {
   "cell_type": "code",
   "execution_count": null,
   "id": "4bf5f9f8-e78f-4141-86cd-73f121abd7d4",
   "metadata": {},
   "outputs": [],
   "source": []
  }
 ],
 "metadata": {
  "kernelspec": {
   "display_name": "Python 3 (ipykernel)",
   "language": "python",
   "name": "python3"
  },
  "language_info": {
   "codemirror_mode": {
    "name": "ipython",
    "version": 3
   },
   "file_extension": ".py",
   "mimetype": "text/x-python",
   "name": "python",
   "nbconvert_exporter": "python",
   "pygments_lexer": "ipython3",
   "version": "3.11.7"
  }
 },
 "nbformat": 4,
 "nbformat_minor": 5
}
