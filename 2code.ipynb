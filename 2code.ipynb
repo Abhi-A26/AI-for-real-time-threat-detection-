{
 "cells": [
  {
   "cell_type": "code",
   "execution_count": 4,
   "id": "28015fb9-819d-45a1-8054-844c8c4f3e34",
   "metadata": {},
   "outputs": [
    {
     "ename": "NameError",
     "evalue": "name 'Timestamp' is not defined",
     "output_type": "error",
     "traceback": [
      "\u001b[1;31m---------------------------------------------------------------------------\u001b[0m",
      "\u001b[1;31mNameError\u001b[0m                                 Traceback (most recent call last)",
      "Cell \u001b[1;32mIn[4], line 1\u001b[0m\n\u001b[1;32m----> 1\u001b[0m Timestamp,Source_IP,Destination_IP,Protocol,Packet_Length,Flags,Label\n\u001b[0;32m      2\u001b[0m \u001b[38;5;124m\"\u001b[39m\u001b[38;5;124m2024-11-28 12:00:00\u001b[39m\u001b[38;5;124m\"\u001b[39m,\u001b[38;5;124m\"\u001b[39m\u001b[38;5;124m192.168.1.1\u001b[39m\u001b[38;5;124m\"\u001b[39m,\u001b[38;5;124m\"\u001b[39m\u001b[38;5;124m192.168.1.2\u001b[39m\u001b[38;5;124m\"\u001b[39m,\u001b[38;5;124m\"\u001b[39m\u001b[38;5;124mTCP\u001b[39m\u001b[38;5;124m\"\u001b[39m,\u001b[38;5;241m1500\u001b[39m,\u001b[38;5;124m\"\u001b[39m\u001b[38;5;124mSYN\u001b[39m\u001b[38;5;124m\"\u001b[39m,\u001b[38;5;241m1\u001b[39m\n\u001b[0;32m      3\u001b[0m \u001b[38;5;124m\"\u001b[39m\u001b[38;5;124m2024-11-28 12:05:00\u001b[39m\u001b[38;5;124m\"\u001b[39m,\u001b[38;5;124m\"\u001b[39m\u001b[38;5;124m192.168.1.3\u001b[39m\u001b[38;5;124m\"\u001b[39m,\u001b[38;5;124m\"\u001b[39m\u001b[38;5;124m192.168.1.4\u001b[39m\u001b[38;5;124m\"\u001b[39m,\u001b[38;5;124m\"\u001b[39m\u001b[38;5;124mUDP\u001b[39m\u001b[38;5;124m\"\u001b[39m,\u001b[38;5;241m1000\u001b[39m,\u001b[38;5;124m\"\u001b[39m\u001b[38;5;124mACK\u001b[39m\u001b[38;5;124m\"\u001b[39m,\u001b[38;5;241m0\u001b[39m\n",
      "\u001b[1;31mNameError\u001b[0m: name 'Timestamp' is not defined"
     ]
    }
   ],
   "source": [
    "Timestamp,Source_IP,Destination_IP,Protocol,Packet_Length,Flags,Label\n",
    "\"2024-11-28 12:00:00\",\"192.168.1.1\",\"192.168.1.2\",\"TCP\",1500,\"SYN\",1\n",
    "\"2024-11-28 12:05:00\",\"192.168.1.3\",\"192.168.1.4\",\"UDP\",1000,\"ACK\",0\n",
    "\"2024-11-28 12:10:00\",\"192.168.1.2\",\"192.168.1.1\",\"TCP\",1300,\"SYN\",1\n"
   ]
  },
  {
   "cell_type": "code",
   "execution_count": 5,
   "id": "ff766d62-abea-47fb-912d-3069e5b31981",
   "metadata": {},
   "outputs": [
    {
     "name": "stdout",
     "output_type": "stream",
     "text": [
      "             Timestamp    Source_IP Destination_IP Protocol  Packet_Length  \\\n",
      "0  2024-11-28 12:00:00  192.168.1.1    192.168.1.2      TCP           1500   \n",
      "1  2024-11-28 12:05:00  192.168.1.3    192.168.1.4      UDP           1000   \n",
      "2  2024-11-28 12:10:00  192.168.1.2    192.168.1.1      TCP           1300   \n",
      "\n",
      "  Flags  Label  \n",
      "0   SYN      1  \n",
      "1   ACK      0  \n",
      "2   SYN      1  \n"
     ]
    }
   ],
   "source": [
    "import pandas as pd\n",
    "\n",
    "# Define sample data with quotes around the timestamps\n",
    "data = [\n",
    "    [\"2024-11-28 12:00:00\", \"192.168.1.1\", \"192.168.1.2\", \"TCP\", 1500, \"SYN\", 1],\n",
    "    [\"2024-11-28 12:05:00\", \"192.168.1.3\", \"192.168.1.4\", \"UDP\", 1000, \"ACK\", 0],\n",
    "    [\"2024-11-28 12:10:00\", \"192.168.1.2\", \"192.168.1.1\", \"TCP\", 1300, \"SYN\", 1]\n",
    "]\n",
    "\n",
    "# Create a DataFrame and save to CSV\n",
    "df = pd.DataFrame(data, columns=['Timestamp', 'Source_IP', 'Destination_IP', 'Protocol', 'Packet_Length', 'Flags', 'Label'])\n",
    "df.to_csv('network_traffic.csv', index=False)\n",
    "\n",
    "# Check the contents of the generated CSV file\n",
    "print(df)\n"
   ]
  },
  {
   "cell_type": "code",
   "execution_count": 6,
   "id": "e98a3716-e121-4762-9b64-93653652f9af",
   "metadata": {},
   "outputs": [
    {
     "name": "stderr",
     "output_type": "stream",
     "text": [
      "C:\\Users\\User\\AppData\\Local\\Temp\\ipykernel_25320\\209709855.py:22: SettingWithCopyWarning: \n",
      "A value is trying to be set on a copy of a slice from a DataFrame.\n",
      "Try using .loc[row_indexer,col_indexer] = value instead\n",
      "\n",
      "See the caveats in the documentation: https://pandas.pydata.org/pandas-docs/stable/user_guide/indexing.html#returning-a-view-versus-a-copy\n",
      "  X[['Packet_Length']] = scaler.fit_transform(X[['Packet_Length']])\n"
     ]
    }
   ],
   "source": [
    "import pandas as pd\n",
    "from sklearn.preprocessing import LabelEncoder, StandardScaler\n",
    "from sklearn.model_selection import train_test_split\n",
    "\n",
    "# Load the dataset\n",
    "df = pd.read_csv('network_traffic.csv')\n",
    "\n",
    "# Handling missing values (if any)\n",
    "df.fillna(0, inplace=True)\n",
    "\n",
    "# Encoding categorical features (e.g., Protocol, Flags)\n",
    "label_encoder = LabelEncoder()\n",
    "df['Protocol'] = label_encoder.fit_transform(df['Protocol'])\n",
    "df['Flags'] = label_encoder.fit_transform(df['Flags'])\n",
    "\n",
    "# Feature selection (selecting relevant columns)\n",
    "X = df[['Source_IP', 'Destination_IP', 'Protocol', 'Packet_Length', 'Flags']]\n",
    "y = df['Label']\n",
    "\n",
    "# Normalize numerical features\n",
    "scaler = StandardScaler()\n",
    "X[['Packet_Length']] = scaler.fit_transform(X[['Packet_Length']])\n",
    "\n",
    "# Train-test split\n",
    "X_train, X_test, y_train, y_test = train_test_split(X, y, test_size=0.2, random_state=42)\n"
   ]
  },
  {
   "cell_type": "code",
   "execution_count": null,
   "id": "a10078b7-1341-4c77-a166-3717fdb1da5c",
   "metadata": {},
   "outputs": [],
   "source": []
  }
 ],
 "metadata": {
  "kernelspec": {
   "display_name": "Python 3 (ipykernel)",
   "language": "python",
   "name": "python3"
  },
  "language_info": {
   "codemirror_mode": {
    "name": "ipython",
    "version": 3
   },
   "file_extension": ".py",
   "mimetype": "text/x-python",
   "name": "python",
   "nbconvert_exporter": "python",
   "pygments_lexer": "ipython3",
   "version": "3.11.7"
  }
 },
 "nbformat": 4,
 "nbformat_minor": 5
}
